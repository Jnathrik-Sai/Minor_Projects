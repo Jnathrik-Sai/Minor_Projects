{
 "cells": [
  {
   "cell_type": "code",
   "execution_count": 6,
   "id": "7b209740-e2d1-4621-9ee6-4a9f298e9c6d",
   "metadata": {},
   "outputs": [],
   "source": [
    "import pickle\n",
    "import numpy as np\n",
    "\n",
    "pipe = pickle.load(open('pipe.pkl','rb'))"
   ]
  },
  {
   "cell_type": "code",
   "execution_count": 12,
   "id": "85516402-0829-457f-b8cf-1c3c7152cdff",
   "metadata": {},
   "outputs": [],
   "source": [
    "inp1 = np.array([2, 'female', 30.0, 0, 0, 10.5, 'S'],dtype=object).reshape(1,7)"
   ]
  },
  {
   "cell_type": "code",
   "execution_count": 26,
   "id": "57fd0fa4-8bf0-4c6d-b1d1-2ab7aa9e261b",
   "metadata": {},
   "outputs": [
    {
     "name": "stderr",
     "output_type": "stream",
     "text": [
      "/opt/anaconda3/lib/python3.11/site-packages/sklearn/base.py:439: UserWarning: X does not have valid feature names, but SimpleImputer was fitted with feature names\n",
      "  warnings.warn(\n",
      "/opt/anaconda3/lib/python3.11/site-packages/sklearn/base.py:439: UserWarning: X does not have valid feature names, but SimpleImputer was fitted with feature names\n",
      "  warnings.warn(\n"
     ]
    }
   ],
   "source": [
    "res = pipe.predict(inp1)"
   ]
  },
  {
   "cell_type": "code",
   "execution_count": 28,
   "id": "ae2c51b3-c581-4615-8144-9f895123586b",
   "metadata": {},
   "outputs": [
    {
     "name": "stdout",
     "output_type": "stream",
     "text": [
      "Not Survived\n"
     ]
    }
   ],
   "source": [
    "if(res) :\n",
    "    print('Survived')\n",
    "else :\n",
    "    print('Not Survived')"
   ]
  },
  {
   "cell_type": "code",
   "execution_count": null,
   "id": "49b826ec-8b33-4e4d-ae2a-fbe17698ff76",
   "metadata": {},
   "outputs": [],
   "source": []
  }
 ],
 "metadata": {
  "kernelspec": {
   "display_name": "Python 3 (ipykernel)",
   "language": "python",
   "name": "python3"
  },
  "language_info": {
   "codemirror_mode": {
    "name": "ipython",
    "version": 3
   },
   "file_extension": ".py",
   "mimetype": "text/x-python",
   "name": "python",
   "nbconvert_exporter": "python",
   "pygments_lexer": "ipython3",
   "version": "3.11.7"
  }
 },
 "nbformat": 4,
 "nbformat_minor": 5
}
